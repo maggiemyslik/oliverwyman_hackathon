{
 "cells": [
  {
   "cell_type": "code",
   "execution_count": null,
   "id": "1b5e15cc",
   "metadata": {},
   "outputs": [],
   "source": [
    "%pip install pandas openpyxl numpy\n",
    "\n",
    "import pandas as pd\n",
    "import numpy as np"
   ]
  },
  {
   "cell_type": "code",
   "execution_count": null,
   "id": "9ebc364a",
   "metadata": {},
   "outputs": [],
   "source": [
    "raw_df = pd.read_excel(\"./data.xlsx\");\n"
   ]
  },
  {
   "cell_type": "code",
   "execution_count": null,
   "id": "cf542c58",
   "metadata": {},
   "outputs": [],
   "source": [
    "raw_df.loc[(raw_df['BMI'] >= 40) | (raw_df['BMI'] <= 7), 'BMI'] = np.nan;\n",
    "raw_df.loc[(raw_df['VO2 Max'] >= 100) | (raw_df['VO2 Max'] <= 10), 'VO2 Max'] = np.nan;\n",
    "raw_df.loc[(raw_df['n Marathons run'] > 500) | (raw_df['n Marathons run'] < 0), 'n Marathons run'] = np.nan;\n",
    "raw_df.loc[(raw_df['Cadence'] >= 250) | (raw_df['Cadence'] < 30), 'Cadence'] = np.nan;\n",
    "raw_df.loc[(raw_df['Age'] >= 100) | (raw_df['Age'] <= 10), 'Age'] = np.nan;\n",
    "\n",
    "raw_df['time'] = pd.to_timedelta(raw_df['time']).dt.total_seconds() / 60;\n",
    "raw_df[\"is_male\"] = raw_df[\"gender\"].str.lower().map({\"male\": True, \"female\": False});\n",
    "\n",
    "raw_df[\"in_club\"] = raw_df[\"club\"].fillna(\"\").str.strip() != \"\";\n",
    "\n",
    "raw_df = raw_df.drop(columns=['Unnamed: 0', 'gender', 'id', 'club']);"
   ]
  },
  {
   "cell_type": "markdown",
   "id": "ef290f74",
   "metadata": {},
   "source": [
    "BMI: 40-7\n",
    "\n",
    "VO2_Max: 10-100\n",
    "\n",
    "Marathons_run: under 500\n",
    "\n",
    "Cadence: 30-250\n",
    "\n",
    "age: 10 - 100\n"
   ]
  },
  {
   "cell_type": "code",
   "execution_count": null,
   "id": "1e232eb6",
   "metadata": {},
   "outputs": [],
   "source": [
    "raw_df.to_csv(\"tz_output.csv\", index=False)"
   ]
  }
 ],
 "metadata": {
  "kernelspec": {
   "display_name": "Python 3",
   "language": "python",
   "name": "python3"
  },
  "language_info": {
   "codemirror_mode": {
    "name": "ipython",
    "version": 3
   },
   "file_extension": ".py",
   "mimetype": "text/x-python",
   "name": "python",
   "nbconvert_exporter": "python",
   "pygments_lexer": "ipython3",
   "version": "3.13.9"
  }
 },
 "nbformat": 4,
 "nbformat_minor": 5
}
